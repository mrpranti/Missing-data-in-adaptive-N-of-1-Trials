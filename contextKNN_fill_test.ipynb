{
 "cells": [
  {
   "cell_type": "code",
   "execution_count": 6,
   "metadata": {},
   "outputs": [],
   "source": [
    "import pandas as pd\n",
    "import numpy as np"
   ]
  },
  {
   "cell_type": "code",
   "execution_count": 80,
   "metadata": {},
   "outputs": [
    {
     "data": {
      "text/html": [
       "<div>\n",
       "<style scoped>\n",
       "    .dataframe tbody tr th:only-of-type {\n",
       "        vertical-align: middle;\n",
       "    }\n",
       "\n",
       "    .dataframe tbody tr th {\n",
       "        vertical-align: top;\n",
       "    }\n",
       "\n",
       "    .dataframe thead th {\n",
       "        text-align: right;\n",
       "    }\n",
       "</style>\n",
       "<table border=\"1\" class=\"dataframe\">\n",
       "  <thead>\n",
       "    <tr style=\"text-align: right;\">\n",
       "      <th></th>\n",
       "      <th>t</th>\n",
       "      <th>patient_id</th>\n",
       "      <th>treatment</th>\n",
       "      <th>outcome</th>\n",
       "    </tr>\n",
       "  </thead>\n",
       "  <tbody>\n",
       "    <tr>\n",
       "      <th>0</th>\n",
       "      <td>0</td>\n",
       "      <td>0</td>\n",
       "      <td>0</td>\n",
       "      <td>0.125730</td>\n",
       "    </tr>\n",
       "    <tr>\n",
       "      <th>1</th>\n",
       "      <td>1</td>\n",
       "      <td>0</td>\n",
       "      <td>0</td>\n",
       "      <td>-0.132105</td>\n",
       "    </tr>\n",
       "    <tr>\n",
       "      <th>2</th>\n",
       "      <td>2</td>\n",
       "      <td>0</td>\n",
       "      <td>0</td>\n",
       "      <td>0.640423</td>\n",
       "    </tr>\n",
       "    <tr>\n",
       "      <th>3</th>\n",
       "      <td>3</td>\n",
       "      <td>0</td>\n",
       "      <td>0</td>\n",
       "      <td>0.104900</td>\n",
       "    </tr>\n",
       "    <tr>\n",
       "      <th>4</th>\n",
       "      <td>4</td>\n",
       "      <td>0</td>\n",
       "      <td>0</td>\n",
       "      <td>-0.535669</td>\n",
       "    </tr>\n",
       "  </tbody>\n",
       "</table>\n",
       "</div>"
      ],
      "text/plain": [
       "   t  patient_id  treatment   outcome\n",
       "0  0           0          0  0.125730\n",
       "1  1           0          0 -0.132105\n",
       "2  2           0          0  0.640423\n",
       "3  3           0          0  0.104900\n",
       "4  4           0          0 -0.535669"
      ]
     },
     "execution_count": 80,
     "metadata": {},
     "output_type": "execute_result"
    }
   ],
   "source": [
    "df = pd.read_csv('data/two_treatment/dt0_without_context.csv' ,index_col=0)\n",
    "df.head()"
   ]
  },
  {
   "cell_type": "markdown",
   "metadata": {},
   "source": [
    "#### creating random nan values"
   ]
  },
  {
   "cell_type": "code",
   "execution_count": 81,
   "metadata": {},
   "outputs": [],
   "source": [
    "column = 'outcome'\n",
    "nan_fraction = 0.1  # 30% of the data in column B will be set to NaN\n",
    "\n",
    "total_rows = len(df)\n",
    "nan_count = int(total_rows * nan_fraction)\n",
    "\n",
    "# Randomly choose row indices where NaN should be inserted in the column\n",
    "nan_indices = np.random.choice(df.index, nan_count, replace=False)\n",
    "\n",
    "# Set those randomly selected positions to NaN in the specified column\n",
    "df.loc[nan_indices, column] = np.nan\n"
   ]
  },
  {
   "cell_type": "markdown",
   "metadata": {},
   "source": [
    "#### Separating the dataframe to calculate missing data\n",
    "In a bayesian aaptive N_of_1 trials, we are going to calculate the missing data as we prepare to update the posterior joint distribution. Thus, the first step is to sepaate the dataframe when the first missing value appears."
   ]
  },
  {
   "cell_type": "code",
   "execution_count": 82,
   "metadata": {},
   "outputs": [
    {
     "data": {
      "text/html": [
       "<div>\n",
       "<style scoped>\n",
       "    .dataframe tbody tr th:only-of-type {\n",
       "        vertical-align: middle;\n",
       "    }\n",
       "\n",
       "    .dataframe tbody tr th {\n",
       "        vertical-align: top;\n",
       "    }\n",
       "\n",
       "    .dataframe thead th {\n",
       "        text-align: right;\n",
       "    }\n",
       "</style>\n",
       "<table border=\"1\" class=\"dataframe\">\n",
       "  <thead>\n",
       "    <tr style=\"text-align: right;\">\n",
       "      <th></th>\n",
       "      <th>t</th>\n",
       "      <th>patient_id</th>\n",
       "      <th>treatment</th>\n",
       "      <th>outcome</th>\n",
       "    </tr>\n",
       "  </thead>\n",
       "  <tbody>\n",
       "    <tr>\n",
       "      <th>0</th>\n",
       "      <td>0</td>\n",
       "      <td>0</td>\n",
       "      <td>0</td>\n",
       "      <td>0.125730</td>\n",
       "    </tr>\n",
       "    <tr>\n",
       "      <th>30</th>\n",
       "      <td>0</td>\n",
       "      <td>1</td>\n",
       "      <td>0</td>\n",
       "      <td>0.345584</td>\n",
       "    </tr>\n",
       "    <tr>\n",
       "      <th>60</th>\n",
       "      <td>0</td>\n",
       "      <td>2</td>\n",
       "      <td>0</td>\n",
       "      <td>0.189053</td>\n",
       "    </tr>\n",
       "    <tr>\n",
       "      <th>90</th>\n",
       "      <td>0</td>\n",
       "      <td>3</td>\n",
       "      <td>0</td>\n",
       "      <td>2.040919</td>\n",
       "    </tr>\n",
       "    <tr>\n",
       "      <th>120</th>\n",
       "      <td>0</td>\n",
       "      <td>4</td>\n",
       "      <td>0</td>\n",
       "      <td>NaN</td>\n",
       "    </tr>\n",
       "  </tbody>\n",
       "</table>\n",
       "</div>"
      ],
      "text/plain": [
       "     t  patient_id  treatment   outcome\n",
       "0    0           0          0  0.125730\n",
       "30   0           1          0  0.345584\n",
       "60   0           2          0  0.189053\n",
       "90   0           3          0  2.040919\n",
       "120  0           4          0       NaN"
      ]
     },
     "execution_count": 82,
     "metadata": {},
     "output_type": "execute_result"
    }
   ],
   "source": [
    "## seperating the dataframe at the point of first missing value\n",
    "nan_t = df[df.isna().any(axis=1)]['t']\n",
    "nan_t = nan_t.sort_values(ascending=True).unique() ## shorting the value in ascending order to make sure we dot the first time cycle\n",
    "ts = nan_t[0]\n",
    "dt = df[df['t'] <= ts].copy()\n",
    "dt.head()\n",
    "     "
   ]
  },
  {
   "cell_type": "markdown",
   "metadata": {},
   "source": [
    "Now, we have data set where we encountered the first missig value in the experiments. lets fill the missing value with various method.\n",
    "#### KNN mean filling method\n",
    "For the context filling method, we are followin a similar algorithm to KNN imputation method. We can descide how many value we want to consider. if 1, then the nearest distance value will fill the missng value. If more than 1 (i.e K), then the mean value of K nearest values will fill the missing value.\n",
    "The context of the each paitent and the treatment altogether is a vector (i.e for paitient id 1 the vector is $[c_1, c_2, ...., c_n, treatment]_{p_1}$). We calculate the distance of the missing value points/paitients vector with all the other available vector. Then, K nearest outcome values mean is used to fill the missing value.\n",
    "\n",
    "If no context is available, then we are using the treatment as a singular context."
   ]
  },
  {
   "cell_type": "code",
   "execution_count": 83,
   "metadata": {},
   "outputs": [],
   "source": [
    "def get_context_vectors(without_miss_dt, context_cols):\n",
    "        \n",
    "    context_vectors = []\n",
    "    for row in without_miss_dt.itertuples():\n",
    "        row_values = [getattr(row, col) for col in context_cols]\n",
    "        context_vectors.append(row_values)\n",
    "\n",
    "    return (np.array(context_vectors))\n",
    "\n",
    "def get_distance(context_vectors, miss_vec):\n",
    "    \n",
    "    distances = []\n",
    "    for vector in context_vectors:\n",
    "        d = np.linalg.norm(vector - miss_vec)\n",
    "        distances.append(d) \n",
    "    return(distances)"
   ]
  },
  {
   "cell_type": "code",
   "execution_count": 84,
   "metadata": {},
   "outputs": [],
   "source": [
    "def KNN_fill(dt, context_cols = list, k = 1): \n",
    "    # dt is the data Frame\n",
    "    # context_cols will be list of columns name which are considered as context \n",
    "    \n",
    "    dt_fill = dt.copy()\n",
    "    miss_dt = dt_fill[dt_fill['outcome'].isna()]\n",
    "    without_miss_dt = dt_fill[dt_fill['outcome'].isna() == False].copy()\n",
    "    context_vectors = get_context_vectors(without_miss_dt, context_cols)\n",
    "    \n",
    "    for row in miss_dt.itertuples():\n",
    "        miss_vec = np.array([getattr(row, col) for col in context_cols])\n",
    "        dis = get_distance(context_vectors, miss_vec)\n",
    "        without_miss_dt['distance'] = dis\n",
    "        \n",
    "        sorted_without_miss_dt = without_miss_dt.sort_values(by = 'distance')\n",
    "        \n",
    "        fill_value = sorted_without_miss_dt['outcome'].head(k).mean()\n",
    "        dt_fill.loc[row.Index,'outcome'] = fill_value\n",
    "    \n",
    "    return dt_fill"
   ]
  },
  {
   "cell_type": "code",
   "execution_count": 85,
   "metadata": {},
   "outputs": [
    {
     "name": "stdout",
     "output_type": "stream",
     "text": [
      "t      patient_id  treatment  outcome\n",
      "False  False       False      False      91\n",
      "                              True        9\n",
      "Name: count, dtype: int64\n",
      "t      patient_id  treatment  outcome\n",
      "False  False       False      False      100\n",
      "Name: count, dtype: int64\n"
     ]
    }
   ],
   "source": [
    "k = 2\n",
    "context_cols = ['treatment']\n",
    "\n",
    "print(dt.isna().value_counts())\n",
    "filled_dt = KNN_fill(dt, context_cols, k)\n",
    "print(filled_dt.isna().value_counts())\n"
   ]
  },
  {
   "cell_type": "markdown",
   "metadata": {},
   "source": [
    "**when t =! 0**"
   ]
  },
  {
   "cell_type": "code",
   "execution_count": 86,
   "metadata": {},
   "outputs": [
    {
     "data": {
      "text/html": [
       "<div>\n",
       "<style scoped>\n",
       "    .dataframe tbody tr th:only-of-type {\n",
       "        vertical-align: middle;\n",
       "    }\n",
       "\n",
       "    .dataframe tbody tr th {\n",
       "        vertical-align: top;\n",
       "    }\n",
       "\n",
       "    .dataframe thead th {\n",
       "        text-align: right;\n",
       "    }\n",
       "</style>\n",
       "<table border=\"1\" class=\"dataframe\">\n",
       "  <thead>\n",
       "    <tr style=\"text-align: right;\">\n",
       "      <th></th>\n",
       "      <th>t</th>\n",
       "      <th>patient_id</th>\n",
       "      <th>treatment</th>\n",
       "      <th>outcome</th>\n",
       "    </tr>\n",
       "  </thead>\n",
       "  <tbody>\n",
       "    <tr>\n",
       "      <th>0</th>\n",
       "      <td>0</td>\n",
       "      <td>0</td>\n",
       "      <td>0</td>\n",
       "      <td>0.125730</td>\n",
       "    </tr>\n",
       "    <tr>\n",
       "      <th>1</th>\n",
       "      <td>1</td>\n",
       "      <td>0</td>\n",
       "      <td>0</td>\n",
       "      <td>-0.132105</td>\n",
       "    </tr>\n",
       "    <tr>\n",
       "      <th>30</th>\n",
       "      <td>0</td>\n",
       "      <td>1</td>\n",
       "      <td>0</td>\n",
       "      <td>0.345584</td>\n",
       "    </tr>\n",
       "    <tr>\n",
       "      <th>31</th>\n",
       "      <td>1</td>\n",
       "      <td>1</td>\n",
       "      <td>0</td>\n",
       "      <td>0.821618</td>\n",
       "    </tr>\n",
       "    <tr>\n",
       "      <th>60</th>\n",
       "      <td>0</td>\n",
       "      <td>2</td>\n",
       "      <td>0</td>\n",
       "      <td>0.189053</td>\n",
       "    </tr>\n",
       "    <tr>\n",
       "      <th>...</th>\n",
       "      <td>...</td>\n",
       "      <td>...</td>\n",
       "      <td>...</td>\n",
       "      <td>...</td>\n",
       "    </tr>\n",
       "    <tr>\n",
       "      <th>2911</th>\n",
       "      <td>1</td>\n",
       "      <td>97</td>\n",
       "      <td>1</td>\n",
       "      <td>1.160014</td>\n",
       "    </tr>\n",
       "    <tr>\n",
       "      <th>2940</th>\n",
       "      <td>0</td>\n",
       "      <td>98</td>\n",
       "      <td>0</td>\n",
       "      <td>-1.087591</td>\n",
       "    </tr>\n",
       "    <tr>\n",
       "      <th>2941</th>\n",
       "      <td>1</td>\n",
       "      <td>98</td>\n",
       "      <td>0</td>\n",
       "      <td>-1.244621</td>\n",
       "    </tr>\n",
       "    <tr>\n",
       "      <th>2970</th>\n",
       "      <td>0</td>\n",
       "      <td>99</td>\n",
       "      <td>0</td>\n",
       "      <td>0.082494</td>\n",
       "    </tr>\n",
       "    <tr>\n",
       "      <th>2971</th>\n",
       "      <td>1</td>\n",
       "      <td>99</td>\n",
       "      <td>0</td>\n",
       "      <td>NaN</td>\n",
       "    </tr>\n",
       "  </tbody>\n",
       "</table>\n",
       "<p>200 rows × 4 columns</p>\n",
       "</div>"
      ],
      "text/plain": [
       "      t  patient_id  treatment   outcome\n",
       "0     0           0          0  0.125730\n",
       "1     1           0          0 -0.132105\n",
       "30    0           1          0  0.345584\n",
       "31    1           1          0  0.821618\n",
       "60    0           2          0  0.189053\n",
       "...  ..         ...        ...       ...\n",
       "2911  1          97          1  1.160014\n",
       "2940  0          98          0 -1.087591\n",
       "2941  1          98          0 -1.244621\n",
       "2970  0          99          0  0.082494\n",
       "2971  1          99          0       NaN\n",
       "\n",
       "[200 rows x 4 columns]"
      ]
     },
     "execution_count": 86,
     "metadata": {},
     "output_type": "execute_result"
    }
   ],
   "source": [
    "next_cycle = df[(df['t']> nan_t[0]) & (df['t'] <= nan_t[1])].copy()\n",
    "next_dt = pd.concat([filled_dt, next_cycle], axis= 0, ignore_index=False) # add the next cycle to the data\n",
    "next_dt = next_dt.sort_index()\n",
    "next_dt"
   ]
  },
  {
   "cell_type": "code",
   "execution_count": 87,
   "metadata": {},
   "outputs": [
    {
     "name": "stdout",
     "output_type": "stream",
     "text": [
      "t      patient_id  treatment  outcome\n",
      "False  False       False      False      193\n",
      "                              True         7\n",
      "Name: count, dtype: int64\n",
      "t      patient_id  treatment  outcome\n",
      "False  False       False      False      200\n",
      "Name: count, dtype: int64\n"
     ]
    }
   ],
   "source": [
    "print(next_dt.isna().value_counts())\n",
    "next_filled_dt = KNN_fill(next_dt, context_cols, k)\n",
    "print(next_filled_dt.isna().value_counts())"
   ]
  }
 ],
 "metadata": {
  "kernelspec": {
   "display_name": "base",
   "language": "python",
   "name": "python3"
  },
  "language_info": {
   "codemirror_mode": {
    "name": "ipython",
    "version": 3
   },
   "file_extension": ".py",
   "mimetype": "text/x-python",
   "name": "python",
   "nbconvert_exporter": "python",
   "pygments_lexer": "ipython3",
   "version": "3.12.4"
  }
 },
 "nbformat": 4,
 "nbformat_minor": 2
}
