{
 "cells": [
  {
   "cell_type": "code",
   "execution_count": 1,
   "metadata": {},
   "outputs": [],
   "source": [
    "import numpy as np\n",
    "import pandas as pd\n",
    "from inference import inf_model, policy\n",
    "from evaluate.evaluation import Evaluatemethod \n",
    "from miss_fill.context_fill import cluster_fill, KNN_fill, DR_fill\n",
    "from miss_fill.mean_fill import mean_fill, tr_mean_fill\n",
    "\n",
    "# for visualization\n",
    "import matplotlib.pyplot as plt\n",
    "import seaborn as sns\n"
   ]
  },
  {
   "cell_type": "markdown",
   "metadata": {},
   "source": [
    "## Scenario: \n",
    "Data with out context with block length 1"
   ]
  },
  {
   "cell_type": "markdown",
   "metadata": {},
   "source": [
    "### Data"
   ]
  },
  {
   "cell_type": "code",
   "execution_count": 2,
   "metadata": {},
   "outputs": [
    {
     "data": {
      "text/html": [
       "<div>\n",
       "<style scoped>\n",
       "    .dataframe tbody tr th:only-of-type {\n",
       "        vertical-align: middle;\n",
       "    }\n",
       "\n",
       "    .dataframe tbody tr th {\n",
       "        vertical-align: top;\n",
       "    }\n",
       "\n",
       "    .dataframe thead th {\n",
       "        text-align: right;\n",
       "    }\n",
       "</style>\n",
       "<table border=\"1\" class=\"dataframe\">\n",
       "  <thead>\n",
       "    <tr style=\"text-align: right;\">\n",
       "      <th></th>\n",
       "      <th>t</th>\n",
       "      <th>patient_id</th>\n",
       "      <th>treatment</th>\n",
       "      <th>outcome</th>\n",
       "    </tr>\n",
       "  </thead>\n",
       "  <tbody>\n",
       "    <tr>\n",
       "      <th>0</th>\n",
       "      <td>0</td>\n",
       "      <td>0</td>\n",
       "      <td>1</td>\n",
       "      <td>0.125730</td>\n",
       "    </tr>\n",
       "    <tr>\n",
       "      <th>1</th>\n",
       "      <td>1</td>\n",
       "      <td>0</td>\n",
       "      <td>0</td>\n",
       "      <td>1.867895</td>\n",
       "    </tr>\n",
       "    <tr>\n",
       "      <th>2</th>\n",
       "      <td>2</td>\n",
       "      <td>0</td>\n",
       "      <td>0</td>\n",
       "      <td>2.640423</td>\n",
       "    </tr>\n",
       "    <tr>\n",
       "      <th>3</th>\n",
       "      <td>3</td>\n",
       "      <td>0</td>\n",
       "      <td>0</td>\n",
       "      <td>2.104900</td>\n",
       "    </tr>\n",
       "    <tr>\n",
       "      <th>4</th>\n",
       "      <td>4</td>\n",
       "      <td>0</td>\n",
       "      <td>0</td>\n",
       "      <td>1.464331</td>\n",
       "    </tr>\n",
       "    <tr>\n",
       "      <th>5</th>\n",
       "      <td>5</td>\n",
       "      <td>0</td>\n",
       "      <td>0</td>\n",
       "      <td>2.361595</td>\n",
       "    </tr>\n",
       "    <tr>\n",
       "      <th>6</th>\n",
       "      <td>0</td>\n",
       "      <td>1</td>\n",
       "      <td>0</td>\n",
       "      <td>2.345584</td>\n",
       "    </tr>\n",
       "    <tr>\n",
       "      <th>7</th>\n",
       "      <td>1</td>\n",
       "      <td>1</td>\n",
       "      <td>0</td>\n",
       "      <td>2.821618</td>\n",
       "    </tr>\n",
       "    <tr>\n",
       "      <th>8</th>\n",
       "      <td>2</td>\n",
       "      <td>1</td>\n",
       "      <td>0</td>\n",
       "      <td>2.330437</td>\n",
       "    </tr>\n",
       "    <tr>\n",
       "      <th>9</th>\n",
       "      <td>3</td>\n",
       "      <td>1</td>\n",
       "      <td>0</td>\n",
       "      <td>0.696843</td>\n",
       "    </tr>\n",
       "  </tbody>\n",
       "</table>\n",
       "</div>"
      ],
      "text/plain": [
       "   t  patient_id  treatment   outcome\n",
       "0  0           0          1  0.125730\n",
       "1  1           0          0  1.867895\n",
       "2  2           0          0  2.640423\n",
       "3  3           0          0  2.104900\n",
       "4  4           0          0  1.464331\n",
       "5  5           0          0  2.361595\n",
       "6  0           1          0  2.345584\n",
       "7  1           1          0  2.821618\n",
       "8  2           1          0  2.330437\n",
       "9  3           1          0  0.696843"
      ]
     },
     "execution_count": 2,
     "metadata": {},
     "output_type": "execute_result"
    }
   ],
   "source": [
    "df1 = pd.read_csv('data/two_treatment/dt1_2024_11_10_without_context.csv' ,index_col=0)\n",
    "df1.head(10)"
   ]
  },
  {
   "cell_type": "markdown",
   "metadata": {},
   "source": [
    "#### creating random nan values"
   ]
  },
  {
   "cell_type": "code",
   "execution_count": 4,
   "metadata": {},
   "outputs": [],
   "source": [
    "df = df1.copy()\n",
    "column = 'outcome'\n",
    "# Parameters\n",
    "thr_t = 0    # Condition: missing at time cycle 0\n",
    "num_nans = 10    # 10% of the data in column B will be set to NaN\n",
    "\n",
    "# Find indices where column 'B' is greater than the threshold\n",
    "eligible_indices = df.index[df['t'] == thr_t]\n",
    "\n",
    "# seed for reproducibility\n",
    "np.random.seed(0)\n",
    "# Select random indices from the eligible ones\n",
    "random_indices = np.random.choice(eligible_indices, size=num_nans, replace=False)\n",
    "\n",
    "# Set NaN at those random indices\n",
    "df.loc[random_indices, column] = np.nan"
   ]
  },
  {
   "cell_type": "code",
   "execution_count": 5,
   "metadata": {},
   "outputs": [],
   "source": [
    "# the patient who have the missing outcomes\n",
    "missing_patient_id = df.loc[df['outcome'].isna(), 'patient_id'].values"
   ]
  },
  {
   "cell_type": "code",
   "execution_count": 6,
   "metadata": {},
   "outputs": [
    {
     "data": {
      "text/html": [
       "<div>\n",
       "<style scoped>\n",
       "    .dataframe tbody tr th:only-of-type {\n",
       "        vertical-align: middle;\n",
       "    }\n",
       "\n",
       "    .dataframe tbody tr th {\n",
       "        vertical-align: top;\n",
       "    }\n",
       "\n",
       "    .dataframe thead th {\n",
       "        text-align: right;\n",
       "    }\n",
       "</style>\n",
       "<table border=\"1\" class=\"dataframe\">\n",
       "  <thead>\n",
       "    <tr style=\"text-align: right;\">\n",
       "      <th></th>\n",
       "      <th>t</th>\n",
       "      <th>patient_id</th>\n",
       "      <th>treatment</th>\n",
       "      <th>outcome</th>\n",
       "    </tr>\n",
       "  </thead>\n",
       "  <tbody>\n",
       "    <tr>\n",
       "      <th>0</th>\n",
       "      <td>0</td>\n",
       "      <td>0</td>\n",
       "      <td>1</td>\n",
       "      <td>0.125730</td>\n",
       "    </tr>\n",
       "    <tr>\n",
       "      <th>6</th>\n",
       "      <td>0</td>\n",
       "      <td>1</td>\n",
       "      <td>0</td>\n",
       "      <td>2.345584</td>\n",
       "    </tr>\n",
       "    <tr>\n",
       "      <th>12</th>\n",
       "      <td>0</td>\n",
       "      <td>2</td>\n",
       "      <td>1</td>\n",
       "      <td>NaN</td>\n",
       "    </tr>\n",
       "    <tr>\n",
       "      <th>18</th>\n",
       "      <td>0</td>\n",
       "      <td>3</td>\n",
       "      <td>0</td>\n",
       "      <td>4.040919</td>\n",
       "    </tr>\n",
       "    <tr>\n",
       "      <th>24</th>\n",
       "      <td>0</td>\n",
       "      <td>4</td>\n",
       "      <td>1</td>\n",
       "      <td>-0.651791</td>\n",
       "    </tr>\n",
       "  </tbody>\n",
       "</table>\n",
       "</div>"
      ],
      "text/plain": [
       "    t  patient_id  treatment   outcome\n",
       "0   0           0          1  0.125730\n",
       "6   0           1          0  2.345584\n",
       "12  0           2          1       NaN\n",
       "18  0           3          0  4.040919\n",
       "24  0           4          1 -0.651791"
      ]
     },
     "execution_count": 6,
     "metadata": {},
     "output_type": "execute_result"
    }
   ],
   "source": [
    "## seperating the dataframe at the point of first missing value\n",
    "dt = df[df['t']<= thr_t].copy()\n",
    "dt.head()"
   ]
  },
  {
   "cell_type": "markdown",
   "metadata": {},
   "source": [
    "### making simulation for the next action choice "
   ]
  },
  {
   "cell_type": "code",
   "execution_count": 7,
   "metadata": {},
   "outputs": [],
   "source": [
    "# Policy and Inference Model\n",
    "inference_model =  inf_model.NormalKnownVariance(\n",
    "    \n",
    "    prior_mean=0, prior_variance=1, variance=1\n",
    ")\n",
    "tmps = policy.ThompsonSampling(inference_model, number_of_treatments=2)"
   ]
  },
  {
   "cell_type": "code",
   "execution_count": 8,
   "metadata": {},
   "outputs": [],
   "source": [
    "# Initial parameters\n",
    "block_length = 1\n",
    "length = 6 * block_length\n",
    "number_of_actions = 2\n",
    "number_of_patients = 100\n",
    "pop_mean = [0,0]\n",
    "pop_variance = [1,1]"
   ]
  },
  {
   "cell_type": "code",
   "execution_count": 9,
   "metadata": {},
   "outputs": [
    {
     "data": {
      "text/plain": [
       "array([ 2, 16, 26, 54, 55, 73, 75, 86, 93, 95], dtype=int64)"
      ]
     },
     "execution_count": 9,
     "metadata": {},
     "output_type": "execute_result"
    }
   ],
   "source": [
    "missing_patient_id"
   ]
  },
  {
   "cell_type": "code",
   "execution_count": 10,
   "metadata": {},
   "outputs": [],
   "source": [
    "## intialization for running all the methods\n",
    "t = 1 # for evaluation method\n",
    "k = 3\n",
    "N = 2\n",
    "m = 1\n",
    "lamb = 2\n",
    "context_cols = ['treatment', 'patient_id']\n"
   ]
  },
  {
   "cell_type": "code",
   "execution_count": 11,
   "metadata": {},
   "outputs": [],
   "source": [
    "## create a dictionary for all the methods\n",
    "\n",
    "methods = {\n",
    "    'mean_fill': mean_fill,\n",
    "    'tr_mean_fill': tr_mean_fill,\n",
    "    'KNN_fill': KNN_fill,\n",
    "    'cluster_fill': cluster_fill,\n",
    "    'DR_fill': DR_fill,\n",
    "    'original': 0,\n",
    "}"
   ]
  },
  {
   "cell_type": "code",
   "execution_count": null,
   "metadata": {},
   "outputs": [
    {
     "name": "stdout",
     "output_type": "stream",
     "text": [
      "done for mean_fill\n",
      "done for tr_mean_fill\n",
      "done for KNN_fill\n"
     ]
    },
    {
     "name": "stderr",
     "output_type": "stream",
     "text": [
      "c:\\ProgramData\\Anaconda3\\Lib\\site-packages\\sklearn\\cluster\\_kmeans.py:1446: UserWarning: KMeans is known to have a memory leak on Windows with MKL, when there are less chunks than available threads. You can avoid it by setting the environment variable OMP_NUM_THREADS=1.\n",
      "  warnings.warn(\n"
     ]
    },
    {
     "name": "stdout",
     "output_type": "stream",
     "text": [
      "done for cluster_fill\n",
      "done for DR_fill\n"
     ]
    }
   ],
   "source": [
    "result = pd.DataFrame()\n",
    "eva = Evaluatemethod(t, df1)\n",
    "for method_name, method in methods.items():\n",
    "    if method == KNN_fill:\n",
    "        filled_dt =method(dt, context_cols, k) \n",
    "        ## GET THE EVALUATION\n",
    "        n_correct_tr, index = eva.get_result(filled_dt)\n",
    "        result[f'{method_name}'] = n_correct_tr    \n",
    "    elif method == cluster_fill:\n",
    "        filled_dt =method(dt, context_cols, N, m)\n",
    "        ## GET THE EVALUATION\n",
    "        n_correct_tr, index = eva.get_result(filled_dt)\n",
    "        result[f'{method_name}'] = n_correct_tr\n",
    "    elif method == DR_fill:\n",
    "        filled_dt =method(dt,lamb, context_cols)\n",
    "        ## GET THE EVALUATION\n",
    "        n_correct_tr, index = eva.get_result(filled_dt)\n",
    "        result[f'{method_name}'] = n_correct_tr\n",
    "        \n",
    "    elif method == DR_fill:\n",
    "        filled_dt =method(dt,lamb, context_cols)\n",
    "        ## GET THE EVALUATION\n",
    "        n_correct_tr, index = eva.get_result(filled_dt)\n",
    "        result[f'{method_name}'] = n_correct_tr\n",
    "    elif method == mean_fill:\n",
    "        filled_dt_g =method(dt)\n",
    "        ## GET THE EVALUATION\n",
    "        n_correct_tr_g, index = eva.get_result(filled_dt= filled_dt_g)\n",
    "        result[f'{method_name} (global)'] = n_correct_tr_g\n",
    "        \n",
    "        # for individual\n",
    "        filled_dt =method(dt, method = 'individual')\n",
    "        ## GET THE EVALUATION\n",
    "        n_correct_tr, index = eva.get_result(filled_dt)\n",
    "        result[f'{method_name} (individual)'] = n_correct_tr\n",
    "        \n",
    "    elif method == tr_mean_fill:\n",
    "        filled_dt_g =method(dt)\n",
    "        ## GET THE EVALUATION\n",
    "        n_correct_tr_g, index = eva.get_result(filled_dt_g)\n",
    "        result[f'{method_name} (global)'] = n_correct_tr_g\n",
    "        \n",
    "        # for individual\n",
    "        filled_dt =method(dt, method = 'individual')\n",
    "        ## GET THE EVALUATION\n",
    "        n_correct_tr, index = eva.get_result(filled_dt)\n",
    "        result[f'{method_name} (individual)'] = n_correct_tr\n",
    "    else:\n",
    "        filled_dt =df1[df1['t'] == 0] ## for the original data\n",
    "        ## GET THE EVALUATION\n",
    "        n_correct_tr, index = eva.get_result(filled_dt)\n",
    "        result['original_data'] = n_correct_tr\n",
    "        \n",
    "\n",
    "    print(f'done for {method_name}')\n",
    "result['patient_id'] = index\n",
    "\n",
    "result = result.set_index('patient_id')"
   ]
  },
  {
   "cell_type": "code",
   "execution_count": 17,
   "metadata": {},
   "outputs": [
    {
     "data": {
      "image/png": "[encoded data removed]",
      "text/plain": [
       "<Figure size 1500x600 with 1 Axes>"
      ]
     },
     "metadata": {},
     "output_type": "display_data"
    }
   ],
   "source": [
    "df_melted = result.melt(var_name='Columns', value_name='Values')\n",
    "\n",
    "# Create a box plot with Seaborn\n",
    "plt.figure(figsize=(15, 6))\n",
    "sns.boxplot(x='Columns', y='Values', data=df_melted, hue='Columns', palette='colorblind')\n",
    "\n",
    "# Add title and labels\n",
    "plt.title('Output of different methods')\n",
    "plt.xlabel('methods')\n",
    "plt.ylabel('Number of correct actions')\n",
    "\n",
    "# Show the plot\n",
    "plt.show()"
   ]
  },
  {
   "cell_type": "code",
   "execution_count": null,
   "metadata": {},
   "outputs": [],
   "source": [
    "result.to_csv('result_output/result_block1wot1_action_selection.csv', index = True)"
   ]
  },
  {
   "cell_type": "markdown",
   "metadata": {},
   "source": [
    "#### Getting the posterior mean"
   ]
  },
  {
   "cell_type": "code",
   "execution_count": 77,
   "metadata": {},
   "outputs": [],
   "source": [
    "import scipy.stats as stats\n",
    "\n",
    "def confidence_interval(df, column, confidence_level=0.95):\n",
    "        \n",
    "    sample = df[column]\n",
    "    n = len(sample)                       # Sample size\n",
    "    mean = sample.mean()                  # Mean of the sample\n",
    "    std_err = sample.sem()                # Standard error of the mean\n",
    "\n",
    "    # Calculate the margin of error\n",
    "    margin_of_error = stats.t.ppf((1 + confidence_level) / 2, n - 1) * std_err\n",
    "\n",
    "    # Calculate confidence interval\n",
    "    lower_bound = mean - margin_of_error\n",
    "    upper_bound = mean + margin_of_error\n",
    "\n",
    "    return (lower_bound, upper_bound)\n",
    "\n",
    "def get_mean_var(filled_dt, n_sim):\n",
    "    \n",
    "    mean_0 = []\n",
    "    mean_1 = []\n",
    "    var_0 = []\n",
    "    var_1 = []\n",
    "    for i in range(0, n_sim):\n",
    "        new_dt = get_newdt(filled_dt, missing_patient_id)\n",
    "        mean, var = inference_model.update_posterior(new_dt, number_of_actions)\n",
    "        mean_0.append(mean[0])\n",
    "        mean_1.append(mean[1])\n",
    "        var_0.append(var[0])\n",
    "        var_1.append(var[1])\n",
    "    output = {\n",
    "        'mean of treatment 0': mean_0,\n",
    "        'mean of treatment 1': mean_1,\n",
    "        'variance of treatment 0': var_0,\n",
    "        'variance of treatment 1': var_1, \n",
    "    }\n",
    "    return pd.DataFrame(output)\n",
    "    "
   ]
  },
  {
   "cell_type": "code",
   "execution_count": 12,
   "metadata": {},
   "outputs": [],
   "source": [
    "eva = Evaluatemethod(t,length, df1)"
   ]
  },
  {
   "cell_type": "code",
   "execution_count": 13,
   "metadata": {},
   "outputs": [
    {
     "ename": "TypeError",
     "evalue": "'tuple' object cannot be interpreted as an integer",
     "output_type": "error",
     "traceback": [
      "\u001b[1;31m---------------------------------------------------------------------------\u001b[0m",
      "\u001b[1;31mTypeError\u001b[0m                                 Traceback (most recent call last)",
      "Cell \u001b[1;32mIn[13], line 72\u001b[0m\n\u001b[0;32m     70\u001b[0m filled_dt_g \u001b[38;5;241m=\u001b[39mmethod(dt)\n\u001b[0;32m     71\u001b[0m \u001b[38;5;66;03m## GET THE EVALUATION\u001b[39;00m\n\u001b[1;32m---> 72\u001b[0m meanG_out \u001b[38;5;241m=\u001b[39m eva\u001b[38;5;241m.\u001b[39mget_mean_var(filled_dt_g, missing_patient_id)\n\u001b[0;32m     73\u001b[0m lower_bound0, upper_bound0 \u001b[38;5;241m=\u001b[39m eva\u001b[38;5;241m.\u001b[39mconfidence_interval(meanG_out, \u001b[38;5;124m'\u001b[39m\u001b[38;5;124mmean of treatment 0\u001b[39m\u001b[38;5;124m'\u001b[39m)\n\u001b[0;32m     74\u001b[0m lower_bound1, upper_bound1 \u001b[38;5;241m=\u001b[39m eva\u001b[38;5;241m.\u001b[39mconfidence_interval(meanG_out, \u001b[38;5;124m'\u001b[39m\u001b[38;5;124mmean of treatment 1\u001b[39m\u001b[38;5;124m'\u001b[39m)\n",
      "File \u001b[1;32mc:\\Users\\USER1\\OneDrive\\Documents\\Thesis\\Wriiting and code\\evaluate\\evaluation.py:124\u001b[0m, in \u001b[0;36mEvaluatemethod.get_mean_var\u001b[1;34m(self, filled_dt, missing_patient_id)\u001b[0m\n\u001b[0;32m    122\u001b[0m var_1 \u001b[38;5;241m=\u001b[39m []\n\u001b[0;32m    123\u001b[0m \u001b[38;5;28;01mfor\u001b[39;00m i \u001b[38;5;129;01min\u001b[39;00m \u001b[38;5;28mrange\u001b[39m(\u001b[38;5;241m0\u001b[39m, \u001b[38;5;241m1000\u001b[39m):\n\u001b[1;32m--> 124\u001b[0m     new_dt \u001b[38;5;241m=\u001b[39m \u001b[38;5;28mself\u001b[39m\u001b[38;5;241m.\u001b[39mget_newdt(filled_dt, missing_patient_id)\n\u001b[0;32m    125\u001b[0m     mean, var \u001b[38;5;241m=\u001b[39m inference_model\u001b[38;5;241m.\u001b[39mupdate_posterior(new_dt, \u001b[38;5;28mself\u001b[39m\u001b[38;5;241m.\u001b[39mnumber_of_actions)\n\u001b[0;32m    126\u001b[0m     mean_0\u001b[38;5;241m.\u001b[39mappend(mean[\u001b[38;5;241m0\u001b[39m])\n",
      "File \u001b[1;32mc:\\Users\\USER1\\OneDrive\\Documents\\Thesis\\Wriiting and code\\evaluate\\evaluation.py:80\u001b[0m, in \u001b[0;36mEvaluatemethod.get_newdt\u001b[1;34m(self, filled_dt, missing_patient_id)\u001b[0m\n\u001b[0;32m     77\u001b[0m \u001b[38;5;28;01mif\u001b[39;00m np\u001b[38;5;241m.\u001b[39misin(\u001b[38;5;28mid\u001b[39m, missing_patient_id)\u001b[38;5;241m.\u001b[39many():\n\u001b[0;32m     78\u001b[0m     next_dt \u001b[38;5;241m=\u001b[39m filled_dt[filled_dt[\u001b[38;5;124m'\u001b[39m\u001b[38;5;124mpatient_id\u001b[39m\u001b[38;5;124m'\u001b[39m] \u001b[38;5;241m==\u001b[39m \u001b[38;5;28mid\u001b[39m]\u001b[38;5;241m.\u001b[39mcopy()\n\u001b[1;32m---> 80\u001b[0m     \u001b[38;5;28;01mfor\u001b[39;00m i \u001b[38;5;129;01min\u001b[39;00m \u001b[38;5;28mrange\u001b[39m(\u001b[38;5;28mself\u001b[39m\u001b[38;5;241m.\u001b[39mt, \u001b[38;5;28mself\u001b[39m\u001b[38;5;241m.\u001b[39mlength):\n\u001b[0;32m     81\u001b[0m         history \u001b[38;5;241m=\u001b[39m next_dt\u001b[38;5;241m.\u001b[39mcopy()\n\u001b[0;32m     82\u001b[0m         action \u001b[38;5;241m=\u001b[39m tmps\u001b[38;5;241m.\u001b[39mchoose_action(history, \u001b[38;5;28mself\u001b[39m\u001b[38;5;241m.\u001b[39mnumber_of_actions)\n",
      "\u001b[1;31mTypeError\u001b[0m: 'tuple' object cannot be interpreted as an integer"
     ]
    }
   ],
   "source": [
    "\n",
    "## gettig the posterior mean and variance of the simulayed data\n",
    "mean_0 = []\n",
    "mean_1 = []\n",
    "lower_bound_tr0 = []\n",
    "upper_bound_tr0 = []\n",
    "lower_bound_tr1 = []\n",
    "upper_bound_tr1 = []\n",
    "original_data_mean_0 = []\n",
    "original_data_mean_1 = []\n",
    "\n",
    "for method_name, method in methods.items():\n",
    "    if method == KNN_fill:\n",
    "        filled_dt =method(dt, context_cols, k)\n",
    "        ## GET THE EVALUATION\n",
    "        KNN_out = eva.get_mean_var(filled_dt, missing_patient_id)\n",
    "        lower_bound0, upper_bound0 = eva.confidence_interval(KNN_out, 'mean of treatment 0')\n",
    "        lower_bound1, upper_bound1 = eva.confidence_interval(KNN_out, 'mean of treatment 1')\n",
    "        mean_a, var_a = inference_model.update_posterior(df1, number_of_actions)\n",
    "        \n",
    "        ## append all data\n",
    "        mean_0.append(KNN_out['mean of treatment 0'].mean())\n",
    "        mean_1.append(KNN_out['mean of treatment 1'].mean())\n",
    "        lower_bound_tr0.append(lower_bound0)\n",
    "        upper_bound_tr0.append(upper_bound0)\n",
    "        lower_bound_tr1.append(lower_bound1)\n",
    "        upper_bound_tr1.append(upper_bound1)\n",
    "        original_data_mean_0.append(mean_a[0])\n",
    "        original_data_mean_1.append(mean_a[1])\n",
    "                   \n",
    "        \n",
    "    elif method == cluster_fill:\n",
    "        filled_dt =method(dt, context_cols, N, m)\n",
    "        ## GET THE EVALUATION\n",
    "        cluster_out = eva.get_mean_var(filled_dt, missing_patient_id)\n",
    "        lower_bound0, upper_bound0 = eva.confidence_interval(cluster_out, 'mean of treatment 0')\n",
    "        lower_bound1, upper_bound1 = eva.confidence_interval(cluster_out, 'mean of treatment 1')\n",
    "        mean_a, var_a = inference_model.update_posterior(df1, number_of_actions)\n",
    "        \n",
    "        ## append all data\n",
    "        mean_0.append(cluster_out['mean of treatment 0'].mean())\n",
    "        mean_1.append(cluster_out['mean of treatment 1'].mean())\n",
    "        lower_bound_tr0.append(lower_bound0)\n",
    "        upper_bound_tr0.append(upper_bound0)\n",
    "        lower_bound_tr1.append(lower_bound1)\n",
    "        upper_bound_tr1.append(upper_bound1)\n",
    "        original_data_mean_0.append(mean_a[0])\n",
    "        original_data_mean_1.append(mean_a[1])\n",
    "        \n",
    "        \n",
    "    elif method == DR_fill:\n",
    "        filled_dt =method(dt,lamb, context_cols)\n",
    "               ## GET THE EVALUATION\n",
    "        DR_out = eva.get_mean_var(filled_dt, missing_patient_id)\n",
    "        lower_bound0, upper_bound0 = eva.confidence_interval(DR_out, 'mean of treatment 0')\n",
    "        lower_bound1, upper_bound1 = eva.confidence_interval(DR_out, 'mean of treatment 1')\n",
    "        mean_a, var_a = inference_model.update_posterior(df1, number_of_actions)\n",
    "        \n",
    "        ## append all data\n",
    "        mean_0.append(DR_out['mean of treatment 0'].mean())\n",
    "        mean_1.append(DR_out['mean of treatment 1'].mean())\n",
    "        lower_bound_tr0.append(lower_bound0)\n",
    "        upper_bound_tr0.append(upper_bound0)\n",
    "        lower_bound_tr1.append(lower_bound1)\n",
    "        upper_bound_tr1.append(upper_bound1)\n",
    "        original_data_mean_0.append(mean_a[0])\n",
    "        original_data_mean_1.append(mean_a[1])\n",
    "        \n",
    "\n",
    "    elif method == mean_fill:\n",
    "        filled_dt_g =method(dt)\n",
    "        ## GET THE EVALUATION\n",
    "        meanG_out = eva.get_mean_var(filled_dt_g, missing_patient_id)\n",
    "        lower_bound0, upper_bound0 = eva.confidence_interval(meanG_out, 'mean of treatment 0')\n",
    "        lower_bound1, upper_bound1 = eva.confidence_interval(meanG_out, 'mean of treatment 1')\n",
    "        mean_a, var_a = inference_model.update_posterior(df1, number_of_actions)\n",
    "        \n",
    "        ## append all data\n",
    "        mean_0.append(meanG_out['mean of treatment 0'].mean())\n",
    "        mean_1.append(meanG_out['mean of treatment 1'].mean())\n",
    "        lower_bound_tr0.append(lower_bound0)\n",
    "        upper_bound_tr0.append(upper_bound0)\n",
    "        lower_bound_tr1.append(lower_bound1)\n",
    "        upper_bound_tr1.append(upper_bound1)\n",
    "        original_data_mean_0.append(mean_a[0])\n",
    "        original_data_mean_1.append(mean_a[1])\n",
    "        \n",
    "        # for individual\n",
    "        filled_dt =method(dt, method = 'individual')\n",
    "               ## GET THE EVALUATION\n",
    "        meanI_out = eva.get_mean_var(filled_dt, missing_patient_id)\n",
    "        lower_bound0, upper_bound0 = eva.confidence_interval(meanI_out, 'mean of treatment 0')\n",
    "        lower_bound1, upper_bound1 = eva.confidence_interval(meanI_out, 'mean of treatment 1')\n",
    "        mean_a, var_a = inference_model.update_posterior(df1, number_of_actions)\n",
    "        \n",
    "        ## append all data\n",
    "        mean_0.append(meanI_out['mean of treatment 0'].mean())\n",
    "        mean_1.append(meanI_out['mean of treatment 1'].mean())\n",
    "        lower_bound_tr0.append(lower_bound0)\n",
    "        upper_bound_tr0.append(upper_bound0)\n",
    "        lower_bound_tr1.append(lower_bound1)\n",
    "        upper_bound_tr1.append(upper_bound1)\n",
    "        original_data_mean_0.append(mean_a[0])\n",
    "        original_data_mean_1.append(mean_a[1])\n",
    "        \n",
    "    elif method == tr_mean_fill:\n",
    "        filled_dt_g =method(dt)\n",
    "        ## GET THE EVALUATION\n",
    "        tr_meanG_out = eva.get_mean_var(filled_dt_g, missing_patient_id)\n",
    "        lower_bound0, upper_bound0 = eva.confidence_interval(tr_meanG_out, 'mean of treatment 0')\n",
    "        lower_bound1, upper_bound1 = eva.confidence_interval(tr_meanG_out, 'mean of treatment 1')\n",
    "        mean_a, var_a = inference_model.update_posterior(df1, number_of_actions)\n",
    "        \n",
    "        ## append all data\n",
    "        mean_0.append(tr_meanG_out['mean of treatment 0'].mean())\n",
    "        mean_1.append(tr_meanG_out['mean of treatment 1'].mean())\n",
    "        lower_bound_tr0.append(lower_bound0)\n",
    "        upper_bound_tr0.append(upper_bound0)\n",
    "        lower_bound_tr1.append(lower_bound1)\n",
    "        upper_bound_tr1.append(upper_bound1)\n",
    "        original_data_mean_0.append(mean_a[0])\n",
    "        original_data_mean_1.append(mean_a[1])\n",
    "        \n",
    "        # for individual\n",
    "        filled_dt =method(dt, method = 'individual')\n",
    "        ## GET THE EVALUATION\n",
    "        tr_meanI_out = eva.get_mean_var(filled_dt, missing_patient_id)\n",
    "        lower_bound0, upper_bound0 = eva.confidence_interval(tr_meanI_out, 'mean of treatment 0')\n",
    "        lower_bound1, upper_bound1 = eva.confidence_interval(tr_meanI_out, 'mean of treatment 1')\n",
    "        mean_a, var_a = inference_model.update_posterior(df1, number_of_actions)\n",
    "        \n",
    "        ## append all data\n",
    "        mean_0.append(tr_meanI_out['mean of treatment 0'].mean())\n",
    "        mean_1.append(tr_meanI_out['mean of treatment 1'].mean())\n",
    "        lower_bound_tr0.append(lower_bound0)\n",
    "        upper_bound_tr0.append(upper_bound0)\n",
    "        lower_bound_tr1.append(lower_bound1)\n",
    "        upper_bound_tr1.append(upper_bound1)\n",
    "        original_data_mean_0.append(mean_a[0])\n",
    "        original_data_mean_1.append(mean_a[1])\n"
   ]
  },
  {
   "cell_type": "code",
   "execution_count": 16,
   "metadata": {},
   "outputs": [],
   "source": [
    "par_estimation_result= {\n",
    "    'method': [\"mean_fill (global)\", \"mean_fill (individual)\", \"tr_mean_fill (global)\", \"tr_mean_fill (individual)\", \"KNN_fill\", \"cluster_fill\",\n",
    "               \"DR_fill\"],\n",
    "    'posterior mean of treatment 0': mean_0,\n",
    "    'treatment 0 lower bound (95%)': lower_bound0,\n",
    "    'treatment 0 upper bound (95%)': upper_bound0,\n",
    "    'posterior mean of treatment 0 (original data )': original_data_mean_0,\n",
    "    'posterior mean of treatment 1': mean_1,\n",
    "    'treatment 1 lower bound (95%)': lower_bound1,\n",
    "    'treatment 1 upper bound (95%)': upper_bound1,\n",
    "    'posterior mean of treatment 1 (original data )': original_data_mean_1\n",
    "}"
   ]
  },
  {
   "cell_type": "code",
   "execution_count": 19,
   "metadata": {},
   "outputs": [
    {
     "data": {
      "text/plain": [
       "[1.968739285885601]"
      ]
     },
     "execution_count": 19,
     "metadata": {},
     "output_type": "execute_result"
    }
   ],
   "source": [
    "mean_0"
   ]
  },
  {
   "cell_type": "code",
   "execution_count": 18,
   "metadata": {},
   "outputs": [
    {
     "data": {
      "text/plain": [
       "{'method': ['mean_fill (global)',\n",
       "  'mean_fill (individual)',\n",
       "  'tr_mean_fill (global)',\n",
       "  'tr_mean_fill (individual)',\n",
       "  'KNN_fill',\n",
       "  'cluster_fill',\n",
       "  'DR_fill'],\n",
       " 'posterior mean of treatment 0': [1.968739285885601],\n",
       " 'treatment 0 lower bound (95%)': 1.968739285885601,\n",
       " 'treatment 0 upper bound (95%)': 1.968739285885601,\n",
       " 'posterior mean of treatment 0 (original data )': [1.9769024920405023],\n",
       " 'posterior mean of treatment 1': [-0.020617869101270263],\n",
       " 'treatment 1 lower bound (95%)': -0.020617869101270263,\n",
       " 'treatment 1 upper bound (95%)': -0.020617869101270263,\n",
       " 'posterior mean of treatment 1 (original data )': [-0.0641282110188639]}"
      ]
     },
     "execution_count": 18,
     "metadata": {},
     "output_type": "execute_result"
    }
   ],
   "source": [
    "par_estimation_result"
   ]
  },
  {
   "cell_type": "code",
   "execution_count": 17,
   "metadata": {},
   "outputs": [
    {
     "ename": "ValueError",
     "evalue": "All arrays must be of the same length",
     "output_type": "error",
     "traceback": [
      "\u001b[1;31m---------------------------------------------------------------------------\u001b[0m",
      "\u001b[1;31mValueError\u001b[0m                                Traceback (most recent call last)",
      "Cell \u001b[1;32mIn[17], line 1\u001b[0m\n\u001b[1;32m----> 1\u001b[0m estimation_result \u001b[38;5;241m=\u001b[39m pd\u001b[38;5;241m.\u001b[39mDataFrame(par_estimation_result)\n",
      "File \u001b[1;32m~\\AppData\\Roaming\\Python\\Python312\\site-packages\\pandas\\core\\frame.py:778\u001b[0m, in \u001b[0;36mDataFrame.__init__\u001b[1;34m(self, data, index, columns, dtype, copy)\u001b[0m\n\u001b[0;32m    772\u001b[0m     mgr \u001b[38;5;241m=\u001b[39m \u001b[38;5;28mself\u001b[39m\u001b[38;5;241m.\u001b[39m_init_mgr(\n\u001b[0;32m    773\u001b[0m         data, axes\u001b[38;5;241m=\u001b[39m{\u001b[38;5;124m\"\u001b[39m\u001b[38;5;124mindex\u001b[39m\u001b[38;5;124m\"\u001b[39m: index, \u001b[38;5;124m\"\u001b[39m\u001b[38;5;124mcolumns\u001b[39m\u001b[38;5;124m\"\u001b[39m: columns}, dtype\u001b[38;5;241m=\u001b[39mdtype, copy\u001b[38;5;241m=\u001b[39mcopy\n\u001b[0;32m    774\u001b[0m     )\n\u001b[0;32m    776\u001b[0m \u001b[38;5;28;01melif\u001b[39;00m \u001b[38;5;28misinstance\u001b[39m(data, \u001b[38;5;28mdict\u001b[39m):\n\u001b[0;32m    777\u001b[0m     \u001b[38;5;66;03m# GH#38939 de facto copy defaults to False only in non-dict cases\u001b[39;00m\n\u001b[1;32m--> 778\u001b[0m     mgr \u001b[38;5;241m=\u001b[39m dict_to_mgr(data, index, columns, dtype\u001b[38;5;241m=\u001b[39mdtype, copy\u001b[38;5;241m=\u001b[39mcopy, typ\u001b[38;5;241m=\u001b[39mmanager)\n\u001b[0;32m    779\u001b[0m \u001b[38;5;28;01melif\u001b[39;00m \u001b[38;5;28misinstance\u001b[39m(data, ma\u001b[38;5;241m.\u001b[39mMaskedArray):\n\u001b[0;32m    780\u001b[0m     \u001b[38;5;28;01mfrom\u001b[39;00m \u001b[38;5;21;01mnumpy\u001b[39;00m\u001b[38;5;21;01m.\u001b[39;00m\u001b[38;5;21;01mma\u001b[39;00m \u001b[38;5;28;01mimport\u001b[39;00m mrecords\n",
      "File \u001b[1;32m~\\AppData\\Roaming\\Python\\Python312\\site-packages\\pandas\\core\\internals\\construction.py:503\u001b[0m, in \u001b[0;36mdict_to_mgr\u001b[1;34m(data, index, columns, dtype, typ, copy)\u001b[0m\n\u001b[0;32m    499\u001b[0m     \u001b[38;5;28;01melse\u001b[39;00m:\n\u001b[0;32m    500\u001b[0m         \u001b[38;5;66;03m# dtype check to exclude e.g. range objects, scalars\u001b[39;00m\n\u001b[0;32m    501\u001b[0m         arrays \u001b[38;5;241m=\u001b[39m [x\u001b[38;5;241m.\u001b[39mcopy() \u001b[38;5;28;01mif\u001b[39;00m \u001b[38;5;28mhasattr\u001b[39m(x, \u001b[38;5;124m\"\u001b[39m\u001b[38;5;124mdtype\u001b[39m\u001b[38;5;124m\"\u001b[39m) \u001b[38;5;28;01melse\u001b[39;00m x \u001b[38;5;28;01mfor\u001b[39;00m x \u001b[38;5;129;01min\u001b[39;00m arrays]\n\u001b[1;32m--> 503\u001b[0m \u001b[38;5;28;01mreturn\u001b[39;00m arrays_to_mgr(arrays, columns, index, dtype\u001b[38;5;241m=\u001b[39mdtype, typ\u001b[38;5;241m=\u001b[39mtyp, consolidate\u001b[38;5;241m=\u001b[39mcopy)\n",
      "File \u001b[1;32m~\\AppData\\Roaming\\Python\\Python312\\site-packages\\pandas\\core\\internals\\construction.py:114\u001b[0m, in \u001b[0;36marrays_to_mgr\u001b[1;34m(arrays, columns, index, dtype, verify_integrity, typ, consolidate)\u001b[0m\n\u001b[0;32m    111\u001b[0m \u001b[38;5;28;01mif\u001b[39;00m verify_integrity:\n\u001b[0;32m    112\u001b[0m     \u001b[38;5;66;03m# figure out the index, if necessary\u001b[39;00m\n\u001b[0;32m    113\u001b[0m     \u001b[38;5;28;01mif\u001b[39;00m index \u001b[38;5;129;01mis\u001b[39;00m \u001b[38;5;28;01mNone\u001b[39;00m:\n\u001b[1;32m--> 114\u001b[0m         index \u001b[38;5;241m=\u001b[39m _extract_index(arrays)\n\u001b[0;32m    115\u001b[0m     \u001b[38;5;28;01melse\u001b[39;00m:\n\u001b[0;32m    116\u001b[0m         index \u001b[38;5;241m=\u001b[39m ensure_index(index)\n",
      "File \u001b[1;32m~\\AppData\\Roaming\\Python\\Python312\\site-packages\\pandas\\core\\internals\\construction.py:677\u001b[0m, in \u001b[0;36m_extract_index\u001b[1;34m(data)\u001b[0m\n\u001b[0;32m    675\u001b[0m lengths \u001b[38;5;241m=\u001b[39m \u001b[38;5;28mlist\u001b[39m(\u001b[38;5;28mset\u001b[39m(raw_lengths))\n\u001b[0;32m    676\u001b[0m \u001b[38;5;28;01mif\u001b[39;00m \u001b[38;5;28mlen\u001b[39m(lengths) \u001b[38;5;241m>\u001b[39m \u001b[38;5;241m1\u001b[39m:\n\u001b[1;32m--> 677\u001b[0m     \u001b[38;5;28;01mraise\u001b[39;00m \u001b[38;5;167;01mValueError\u001b[39;00m(\u001b[38;5;124m\"\u001b[39m\u001b[38;5;124mAll arrays must be of the same length\u001b[39m\u001b[38;5;124m\"\u001b[39m)\n\u001b[0;32m    679\u001b[0m \u001b[38;5;28;01mif\u001b[39;00m have_dicts:\n\u001b[0;32m    680\u001b[0m     \u001b[38;5;28;01mraise\u001b[39;00m \u001b[38;5;167;01mValueError\u001b[39;00m(\n\u001b[0;32m    681\u001b[0m         \u001b[38;5;124m\"\u001b[39m\u001b[38;5;124mMixing dicts with non-Series may lead to ambiguous ordering.\u001b[39m\u001b[38;5;124m\"\u001b[39m\n\u001b[0;32m    682\u001b[0m     )\n",
      "\u001b[1;31mValueError\u001b[0m: All arrays must be of the same length"
     ]
    }
   ],
   "source": [
    "estimation_result = pd.DataFrame(par_estimation_result)"
   ]
  },
  {
   "cell_type": "code",
   "execution_count": null,
   "metadata": {},
   "outputs": [],
   "source": [
    "estimation_result.to_csv('result_output/result_block1wot1_estimation.csv', index = True)"
   ]
  }
 ],
 "metadata": {
  "kernelspec": {
   "display_name": "base",
   "language": "python",
   "name": "python3"
  },
  "language_info": {
   "codemirror_mode": {
    "name": "ipython",
    "version": 3
   },
   "file_extension": ".py",
   "mimetype": "text/x-python",
   "name": "python",
   "nbconvert_exporter": "python",
   "pygments_lexer": "ipython3",
   "version": "3.12.4"
  }
 },
 "nbformat": 4,
 "nbformat_minor": 2
}
