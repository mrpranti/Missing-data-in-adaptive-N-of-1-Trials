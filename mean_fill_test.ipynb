{
 "cells": [
  {
   "cell_type": "code",
   "execution_count": 1,
   "metadata": {},
   "outputs": [],
   "source": [
    "import pandas as pd\n",
    "import numpy as np"
   ]
  },
  {
   "cell_type": "code",
   "execution_count": 2,
   "metadata": {},
   "outputs": [
    {
     "data": {
      "text/html": [
       "<div>\n",
       "<style scoped>\n",
       "    .dataframe tbody tr th:only-of-type {\n",
       "        vertical-align: middle;\n",
       "    }\n",
       "\n",
       "    .dataframe tbody tr th {\n",
       "        vertical-align: top;\n",
       "    }\n",
       "\n",
       "    .dataframe thead th {\n",
       "        text-align: right;\n",
       "    }\n",
       "</style>\n",
       "<table border=\"1\" class=\"dataframe\">\n",
       "  <thead>\n",
       "    <tr style=\"text-align: right;\">\n",
       "      <th></th>\n",
       "      <th>t</th>\n",
       "      <th>patient_id</th>\n",
       "      <th>treatment</th>\n",
       "      <th>outcome</th>\n",
       "    </tr>\n",
       "  </thead>\n",
       "  <tbody>\n",
       "    <tr>\n",
       "      <th>0</th>\n",
       "      <td>0</td>\n",
       "      <td>0</td>\n",
       "      <td>0</td>\n",
       "      <td>0.125730</td>\n",
       "    </tr>\n",
       "    <tr>\n",
       "      <th>1</th>\n",
       "      <td>1</td>\n",
       "      <td>0</td>\n",
       "      <td>0</td>\n",
       "      <td>-0.132105</td>\n",
       "    </tr>\n",
       "    <tr>\n",
       "      <th>2</th>\n",
       "      <td>2</td>\n",
       "      <td>0</td>\n",
       "      <td>0</td>\n",
       "      <td>0.640423</td>\n",
       "    </tr>\n",
       "    <tr>\n",
       "      <th>3</th>\n",
       "      <td>3</td>\n",
       "      <td>0</td>\n",
       "      <td>0</td>\n",
       "      <td>0.104900</td>\n",
       "    </tr>\n",
       "    <tr>\n",
       "      <th>4</th>\n",
       "      <td>4</td>\n",
       "      <td>0</td>\n",
       "      <td>0</td>\n",
       "      <td>-0.535669</td>\n",
       "    </tr>\n",
       "  </tbody>\n",
       "</table>\n",
       "</div>"
      ],
      "text/plain": [
       "   t  patient_id  treatment   outcome\n",
       "0  0           0          0  0.125730\n",
       "1  1           0          0 -0.132105\n",
       "2  2           0          0  0.640423\n",
       "3  3           0          0  0.104900\n",
       "4  4           0          0 -0.535669"
      ]
     },
     "execution_count": 2,
     "metadata": {},
     "output_type": "execute_result"
    }
   ],
   "source": [
    "df = pd.read_csv('data/two_treatment/dt0_without_context.csv' ,index_col=0)\n",
    "df.head()"
   ]
  },
  {
   "cell_type": "markdown",
   "metadata": {},
   "source": [
    "#### creating random nan values"
   ]
  },
  {
   "cell_type": "code",
   "execution_count": 4,
   "metadata": {},
   "outputs": [],
   "source": [
    "column = 'outcome'\n",
    "nan_fraction = 0.1  # 30% of the data in column B will be set to NaN\n",
    "\n",
    "total_rows = len(df)\n",
    "nan_count = int(total_rows * nan_fraction)\n",
    "\n",
    "# seed for reproducibility\n",
    "np.random.seed(0)\n",
    "nan_indices = np.random.choice(df.index, nan_count, replace=False)\n",
    "\n",
    "# Set those randomly selected positions to NaN in the specified column\n",
    "df.loc[nan_indices, column] = np.nan\n"
   ]
  },
  {
   "cell_type": "markdown",
   "metadata": {},
   "source": [
    "#### Separating the dataframe to calculate missing data\n",
    "In a bayesian aaptive N_of_1 trials, we are going to calculate the missing data as we prepare to update the posterior joint distribution. Thus, the first step is to sepaate the dataframe when the first missing value appears."
   ]
  },
  {
   "cell_type": "code",
   "execution_count": 5,
   "metadata": {},
   "outputs": [
    {
     "data": {
      "text/html": [
       "<div>\n",
       "<style scoped>\n",
       "    .dataframe tbody tr th:only-of-type {\n",
       "        vertical-align: middle;\n",
       "    }\n",
       "\n",
       "    .dataframe tbody tr th {\n",
       "        vertical-align: top;\n",
       "    }\n",
       "\n",
       "    .dataframe thead th {\n",
       "        text-align: right;\n",
       "    }\n",
       "</style>\n",
       "<table border=\"1\" class=\"dataframe\">\n",
       "  <thead>\n",
       "    <tr style=\"text-align: right;\">\n",
       "      <th></th>\n",
       "      <th>t</th>\n",
       "      <th>patient_id</th>\n",
       "      <th>treatment</th>\n",
       "      <th>outcome</th>\n",
       "    </tr>\n",
       "  </thead>\n",
       "  <tbody>\n",
       "    <tr>\n",
       "      <th>0</th>\n",
       "      <td>0</td>\n",
       "      <td>0</td>\n",
       "      <td>0</td>\n",
       "      <td>0.125730</td>\n",
       "    </tr>\n",
       "    <tr>\n",
       "      <th>30</th>\n",
       "      <td>0</td>\n",
       "      <td>1</td>\n",
       "      <td>0</td>\n",
       "      <td>NaN</td>\n",
       "    </tr>\n",
       "    <tr>\n",
       "      <th>60</th>\n",
       "      <td>0</td>\n",
       "      <td>2</td>\n",
       "      <td>0</td>\n",
       "      <td>0.189053</td>\n",
       "    </tr>\n",
       "    <tr>\n",
       "      <th>90</th>\n",
       "      <td>0</td>\n",
       "      <td>3</td>\n",
       "      <td>0</td>\n",
       "      <td>2.040919</td>\n",
       "    </tr>\n",
       "    <tr>\n",
       "      <th>120</th>\n",
       "      <td>0</td>\n",
       "      <td>4</td>\n",
       "      <td>0</td>\n",
       "      <td>-0.651791</td>\n",
       "    </tr>\n",
       "  </tbody>\n",
       "</table>\n",
       "</div>"
      ],
      "text/plain": [
       "     t  patient_id  treatment   outcome\n",
       "0    0           0          0  0.125730\n",
       "30   0           1          0       NaN\n",
       "60   0           2          0  0.189053\n",
       "90   0           3          0  2.040919\n",
       "120  0           4          0 -0.651791"
      ]
     },
     "execution_count": 5,
     "metadata": {},
     "output_type": "execute_result"
    }
   ],
   "source": [
    "## seperating the dataframe at the point of first missing value\n",
    "nan_t = df[df.isna().any(axis=1)]['t']\n",
    "nan_t = nan_t.sort_values(ascending=True).unique() ## shorting the value in ascending order to make sure we dot the first time cycle\n",
    "ts = nan_t[0]\n",
    "dt = df[df['t'] <= ts].copy()\n",
    "dt.head()\n",
    "     "
   ]
  },
  {
   "cell_type": "markdown",
   "metadata": {},
   "source": [
    "Now, we have data set where we encountered the first missig value in the experiments. lets fill the missing value with various method.\n",
    "#### Mean filling method\n",
    "For the fist method, we are simply going to fill the missing value with individual mean and/or global mean. We are consdering here the global mean option if the missing value appears on the first cycle [t = 0]."
   ]
  },
  {
   "cell_type": "code",
   "execution_count": 1,
   "metadata": {},
   "outputs": [],
   "source": [
    "def mean_fill(dt, method = 'global'): # dt is the data Frame and method global represent the way to mean filling\n",
    "    # getting the first time cycle point \n",
    "    dt_fill = dt.copy()\n",
    "    miss_dt = dt_fill[dt_fill['outcome'].isna()]\n",
    "    ts = miss_dt.iloc[0]['t']\n",
    "\n",
    "    if ts == 0 or method =='global':\n",
    "        dt_fill.fillna({'outcome': dt_fill['outcome'].mean()}, inplace=True)\n",
    "    \n",
    "        \n",
    "    elif  method == 'individual': ## filling missing value with individual mean\n",
    "        for row in miss_dt.itertuples():\n",
    "            index = row.Index\n",
    "            patient_id = row.patient_id\n",
    "            fill_value = dt_fill[dt_fill['patient_id'] == patient_id]['outcome'].mean()\n",
    "            dt_fill.loc[index,'outcome'] = fill_value\n",
    "    \n",
    "    return dt_fill"
   ]
  },
  {
   "cell_type": "code",
   "execution_count": 88,
   "metadata": {},
   "outputs": [
    {
     "name": "stdout",
     "output_type": "stream",
     "text": [
      "t      patient_id  treatment  outcome\n",
      "False  False       False      False      87\n",
      "                              True       13\n",
      "Name: count, dtype: int64\n",
      "t      patient_id  treatment  outcome\n",
      "False  False       False      False      100\n",
      "Name: count, dtype: int64\n"
     ]
    }
   ],
   "source": [
    "print(dt.isna().value_counts())\n",
    "filled_dt = mean_fill(dt)\n",
    "print(filled_dt.isna().value_counts())"
   ]
  },
  {
   "cell_type": "markdown",
   "metadata": {},
   "source": [
    "when the time cycle is not 0[t =! 0]"
   ]
  },
  {
   "cell_type": "code",
   "execution_count": 89,
   "metadata": {},
   "outputs": [
    {
     "data": {
      "text/html": [
       "<div>\n",
       "<style scoped>\n",
       "    .dataframe tbody tr th:only-of-type {\n",
       "        vertical-align: middle;\n",
       "    }\n",
       "\n",
       "    .dataframe tbody tr th {\n",
       "        vertical-align: top;\n",
       "    }\n",
       "\n",
       "    .dataframe thead th {\n",
       "        text-align: right;\n",
       "    }\n",
       "</style>\n",
       "<table border=\"1\" class=\"dataframe\">\n",
       "  <thead>\n",
       "    <tr style=\"text-align: right;\">\n",
       "      <th></th>\n",
       "      <th>t</th>\n",
       "      <th>patient_id</th>\n",
       "      <th>treatment</th>\n",
       "      <th>outcome</th>\n",
       "    </tr>\n",
       "  </thead>\n",
       "  <tbody>\n",
       "    <tr>\n",
       "      <th>0</th>\n",
       "      <td>0</td>\n",
       "      <td>0</td>\n",
       "      <td>0</td>\n",
       "      <td>0.125730</td>\n",
       "    </tr>\n",
       "    <tr>\n",
       "      <th>1</th>\n",
       "      <td>1</td>\n",
       "      <td>0</td>\n",
       "      <td>0</td>\n",
       "      <td>-0.132105</td>\n",
       "    </tr>\n",
       "    <tr>\n",
       "      <th>30</th>\n",
       "      <td>0</td>\n",
       "      <td>1</td>\n",
       "      <td>0</td>\n",
       "      <td>0.345584</td>\n",
       "    </tr>\n",
       "    <tr>\n",
       "      <th>31</th>\n",
       "      <td>1</td>\n",
       "      <td>1</td>\n",
       "      <td>0</td>\n",
       "      <td>0.821618</td>\n",
       "    </tr>\n",
       "    <tr>\n",
       "      <th>60</th>\n",
       "      <td>0</td>\n",
       "      <td>2</td>\n",
       "      <td>0</td>\n",
       "      <td>0.189053</td>\n",
       "    </tr>\n",
       "    <tr>\n",
       "      <th>...</th>\n",
       "      <td>...</td>\n",
       "      <td>...</td>\n",
       "      <td>...</td>\n",
       "      <td>...</td>\n",
       "    </tr>\n",
       "    <tr>\n",
       "      <th>2911</th>\n",
       "      <td>1</td>\n",
       "      <td>97</td>\n",
       "      <td>1</td>\n",
       "      <td>1.160014</td>\n",
       "    </tr>\n",
       "    <tr>\n",
       "      <th>2940</th>\n",
       "      <td>0</td>\n",
       "      <td>98</td>\n",
       "      <td>0</td>\n",
       "      <td>-1.087591</td>\n",
       "    </tr>\n",
       "    <tr>\n",
       "      <th>2941</th>\n",
       "      <td>1</td>\n",
       "      <td>98</td>\n",
       "      <td>0</td>\n",
       "      <td>-1.244621</td>\n",
       "    </tr>\n",
       "    <tr>\n",
       "      <th>2970</th>\n",
       "      <td>0</td>\n",
       "      <td>99</td>\n",
       "      <td>0</td>\n",
       "      <td>0.082494</td>\n",
       "    </tr>\n",
       "    <tr>\n",
       "      <th>2971</th>\n",
       "      <td>1</td>\n",
       "      <td>99</td>\n",
       "      <td>0</td>\n",
       "      <td>-0.464418</td>\n",
       "    </tr>\n",
       "  </tbody>\n",
       "</table>\n",
       "<p>200 rows × 4 columns</p>\n",
       "</div>"
      ],
      "text/plain": [
       "      t  patient_id  treatment   outcome\n",
       "0     0           0          0  0.125730\n",
       "1     1           0          0 -0.132105\n",
       "30    0           1          0  0.345584\n",
       "31    1           1          0  0.821618\n",
       "60    0           2          0  0.189053\n",
       "...  ..         ...        ...       ...\n",
       "2911  1          97          1  1.160014\n",
       "2940  0          98          0 -1.087591\n",
       "2941  1          98          0 -1.244621\n",
       "2970  0          99          0  0.082494\n",
       "2971  1          99          0 -0.464418\n",
       "\n",
       "[200 rows x 4 columns]"
      ]
     },
     "execution_count": 89,
     "metadata": {},
     "output_type": "execute_result"
    }
   ],
   "source": [
    "next_cycle = df[(df['t']> nan_t[0]) & (df['t'] <= nan_t[1])].copy()\n",
    "next_dt = pd.concat([filled_dt, next_cycle], axis= 0, ignore_index=False) # add the next cycle to the data\n",
    "next_dt = next_dt.sort_index()\n",
    "next_dt"
   ]
  },
  {
   "cell_type": "code",
   "execution_count": 90,
   "metadata": {},
   "outputs": [
    {
     "name": "stdout",
     "output_type": "stream",
     "text": [
      "t      patient_id  treatment  outcome\n",
      "False  False       False      False      191\n",
      "                              True         9\n",
      "Name: count, dtype: int64\n",
      "t      patient_id  treatment  outcome\n",
      "False  False       False      False      200\n",
      "Name: count, dtype: int64\n"
     ]
    }
   ],
   "source": [
    "print(next_dt.isna().value_counts())\n",
    "filled_next_dt = mean_fill(next_dt, method= 'individual') ## when we are filling with individual mean\n",
    "print(filled_next_dt.isna().value_counts())"
   ]
  },
  {
   "cell_type": "code",
   "execution_count": 91,
   "metadata": {},
   "outputs": [
    {
     "name": "stdout",
     "output_type": "stream",
     "text": [
      "t      patient_id  treatment  outcome\n",
      "False  False       False      False      191\n",
      "                              True         9\n",
      "Name: count, dtype: int64\n",
      "t      patient_id  treatment  outcome\n",
      "False  False       False      False      200\n",
      "Name: count, dtype: int64\n"
     ]
    }
   ],
   "source": [
    "print(next_dt.isna().value_counts())\n",
    "filled_next_dt = mean_fill(next_dt)## when we are filling with global mean\n",
    "print(filled_next_dt.isna().value_counts())"
   ]
  },
  {
   "cell_type": "markdown",
   "metadata": {},
   "source": [
    "#### mean filling with consideration of treatment\n",
    "\n",
    "Here, we will also fill with mean value, however, we will consider the global/individual mean of that particular treatment."
   ]
  },
  {
   "cell_type": "code",
   "execution_count": 92,
   "metadata": {},
   "outputs": [],
   "source": [
    "def tr_mean_fill(dt, method = 'global'): # dt is the data Frame and method global represent the way to mean filling\n",
    "    # getting the first time cycle point \n",
    "    dt_fill = dt.copy()\n",
    "    miss_dt = dt_fill[dt_fill['outcome'].isna()]\n",
    "    \n",
    "    for row in miss_dt.itertuples():\n",
    "        index = row.Index\n",
    "        patient_id = row.patient_id\n",
    "        treatment = row.treatment\n",
    "        t = row.t\n",
    "        global_fill_value = dt_fill[dt_fill['treatment']== treatment]['outcome'].mean()\n",
    "        \n",
    "        ## what if treatment doesn't have a global mean??\n",
    "         # for now, I am replacing the value with normal mean value\n",
    "        if pd.isna(global_fill_value) & method == 'global':\n",
    "            global_fill_value = dt_fill['outcome'].mean()\n",
    "           \n",
    "          # for individual, replacing with individual mean  (possible to also have choice of global and individual here?)\n",
    "        elif pd.isna(global_fill_value) & method == 'individual':\n",
    "            global_fill_value = dt_fill[dt_fill['patient_id'] == patient_id]['outcome'].mean()\n",
    "            \n",
    "        if t == 0 or method =='global':\n",
    "            dt_fill.loc[index,'outcome'] = global_fill_value  \n",
    "        elif  method == 'individual':\n",
    "            ## filling missing value with individual's treatment mean\n",
    "            fill_value = dt_fill[(dt_fill['patient_id'] == patient_id) & (dt_fill['treatment'] == treatment)]['outcome'].mean() \n",
    "            ## when Individual doesn't have particular treatmen in the previous time period\n",
    "            if pd.isna(fill_value): \n",
    "                dt_fill.loc[index,'outcome'] = global_fill_value ## replacing with global treatment mean value   \n",
    "            else:\n",
    "                dt_fill.loc[index,'outcome'] = fill_value\n",
    "    \n",
    "    return dt_fill"
   ]
  },
  {
   "cell_type": "code",
   "execution_count": 93,
   "metadata": {},
   "outputs": [
    {
     "name": "stdout",
     "output_type": "stream",
     "text": [
      "t      patient_id  treatment  outcome\n",
      "False  False       False      False      87\n",
      "                              True       13\n",
      "Name: count, dtype: int64\n",
      "t      patient_id  treatment  outcome\n",
      "False  False       False      False      100\n",
      "Name: count, dtype: int64\n"
     ]
    }
   ],
   "source": [
    "print(dt.isna().value_counts())\n",
    "filled_dt = tr_mean_fill(dt)\n",
    "print(filled_dt.isna().value_counts())"
   ]
  },
  {
   "cell_type": "markdown",
   "metadata": {},
   "source": [
    "**while t =! 0**"
   ]
  },
  {
   "cell_type": "code",
   "execution_count": 94,
   "metadata": {},
   "outputs": [
    {
     "data": {
      "text/html": [
       "<div>\n",
       "<style scoped>\n",
       "    .dataframe tbody tr th:only-of-type {\n",
       "        vertical-align: middle;\n",
       "    }\n",
       "\n",
       "    .dataframe tbody tr th {\n",
       "        vertical-align: top;\n",
       "    }\n",
       "\n",
       "    .dataframe thead th {\n",
       "        text-align: right;\n",
       "    }\n",
       "</style>\n",
       "<table border=\"1\" class=\"dataframe\">\n",
       "  <thead>\n",
       "    <tr style=\"text-align: right;\">\n",
       "      <th></th>\n",
       "      <th>t</th>\n",
       "      <th>patient_id</th>\n",
       "      <th>treatment</th>\n",
       "      <th>outcome</th>\n",
       "    </tr>\n",
       "  </thead>\n",
       "  <tbody>\n",
       "    <tr>\n",
       "      <th>0</th>\n",
       "      <td>0</td>\n",
       "      <td>0</td>\n",
       "      <td>0</td>\n",
       "      <td>0.125730</td>\n",
       "    </tr>\n",
       "    <tr>\n",
       "      <th>1</th>\n",
       "      <td>1</td>\n",
       "      <td>0</td>\n",
       "      <td>0</td>\n",
       "      <td>-0.132105</td>\n",
       "    </tr>\n",
       "    <tr>\n",
       "      <th>30</th>\n",
       "      <td>0</td>\n",
       "      <td>1</td>\n",
       "      <td>0</td>\n",
       "      <td>0.345584</td>\n",
       "    </tr>\n",
       "    <tr>\n",
       "      <th>31</th>\n",
       "      <td>1</td>\n",
       "      <td>1</td>\n",
       "      <td>0</td>\n",
       "      <td>0.821618</td>\n",
       "    </tr>\n",
       "    <tr>\n",
       "      <th>60</th>\n",
       "      <td>0</td>\n",
       "      <td>2</td>\n",
       "      <td>0</td>\n",
       "      <td>0.189053</td>\n",
       "    </tr>\n",
       "    <tr>\n",
       "      <th>...</th>\n",
       "      <td>...</td>\n",
       "      <td>...</td>\n",
       "      <td>...</td>\n",
       "      <td>...</td>\n",
       "    </tr>\n",
       "    <tr>\n",
       "      <th>2911</th>\n",
       "      <td>1</td>\n",
       "      <td>97</td>\n",
       "      <td>1</td>\n",
       "      <td>1.160014</td>\n",
       "    </tr>\n",
       "    <tr>\n",
       "      <th>2940</th>\n",
       "      <td>0</td>\n",
       "      <td>98</td>\n",
       "      <td>0</td>\n",
       "      <td>-1.087591</td>\n",
       "    </tr>\n",
       "    <tr>\n",
       "      <th>2941</th>\n",
       "      <td>1</td>\n",
       "      <td>98</td>\n",
       "      <td>0</td>\n",
       "      <td>-1.244621</td>\n",
       "    </tr>\n",
       "    <tr>\n",
       "      <th>2970</th>\n",
       "      <td>0</td>\n",
       "      <td>99</td>\n",
       "      <td>0</td>\n",
       "      <td>0.082494</td>\n",
       "    </tr>\n",
       "    <tr>\n",
       "      <th>2971</th>\n",
       "      <td>1</td>\n",
       "      <td>99</td>\n",
       "      <td>0</td>\n",
       "      <td>-0.464418</td>\n",
       "    </tr>\n",
       "  </tbody>\n",
       "</table>\n",
       "<p>200 rows × 4 columns</p>\n",
       "</div>"
      ],
      "text/plain": [
       "      t  patient_id  treatment   outcome\n",
       "0     0           0          0  0.125730\n",
       "1     1           0          0 -0.132105\n",
       "30    0           1          0  0.345584\n",
       "31    1           1          0  0.821618\n",
       "60    0           2          0  0.189053\n",
       "...  ..         ...        ...       ...\n",
       "2911  1          97          1  1.160014\n",
       "2940  0          98          0 -1.087591\n",
       "2941  1          98          0 -1.244621\n",
       "2970  0          99          0  0.082494\n",
       "2971  1          99          0 -0.464418\n",
       "\n",
       "[200 rows x 4 columns]"
      ]
     },
     "execution_count": 94,
     "metadata": {},
     "output_type": "execute_result"
    }
   ],
   "source": [
    "next_cycle = df[(df['t']> nan_t[0]) & (df['t'] <= nan_t[1])].copy()\n",
    "next_dt = pd.concat([filled_dt, next_cycle], axis= 0, ignore_index=False) # add the next cycle to the data\n",
    "next_dt = next_dt.sort_index()\n",
    "next_dt"
   ]
  },
  {
   "cell_type": "code",
   "execution_count": 95,
   "metadata": {},
   "outputs": [
    {
     "name": "stdout",
     "output_type": "stream",
     "text": [
      "t      patient_id  treatment  outcome\n",
      "False  False       False      False      191\n",
      "                              True         9\n",
      "Name: count, dtype: int64\n",
      "t      patient_id  treatment  outcome\n",
      "False  False       False      False      200\n",
      "Name: count, dtype: int64\n"
     ]
    }
   ],
   "source": [
    "print(next_dt.isna().value_counts())\n",
    "next_filled_dt = tr_mean_fill(next_dt) ## still using 'global' treatment mean\n",
    "print(next_filled_dt.isna().value_counts())"
   ]
  },
  {
   "cell_type": "code",
   "execution_count": 96,
   "metadata": {},
   "outputs": [
    {
     "name": "stdout",
     "output_type": "stream",
     "text": [
      "t      patient_id  treatment  outcome\n",
      "False  False       False      False      191\n",
      "                              True         9\n",
      "Name: count, dtype: int64\n",
      "t      patient_id  treatment  outcome\n",
      "False  False       False      False      200\n",
      "Name: count, dtype: int64\n"
     ]
    }
   ],
   "source": [
    "print(next_dt.isna().value_counts())\n",
    "next_filled_dt = tr_mean_fill(next_dt, method= 'individual')\n",
    "print(next_filled_dt.isna().value_counts())"
   ]
  }
 ],
 "metadata": {
  "kernelspec": {
   "display_name": "base",
   "language": "python",
   "name": "python3"
  },
  "language_info": {
   "codemirror_mode": {
    "name": "ipython",
    "version": 3
   },
   "file_extension": ".py",
   "mimetype": "text/x-python",
   "name": "python",
   "nbconvert_exporter": "python",
   "pygments_lexer": "ipython3",
   "version": "3.12.4"
  }
 },
 "nbformat": 4,
 "nbformat_minor": 2
}
